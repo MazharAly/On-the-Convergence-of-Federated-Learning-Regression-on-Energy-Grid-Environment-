{
 "cells": [
  {
   "cell_type": "code",
   "execution_count": 1,
   "id": "43ad3c98",
   "metadata": {},
   "outputs": [],
   "source": [
    "import pandas as pd\n",
    "import numpy as np\n",
    "import seaborn as sns\n",
    "import matplotlib.pyplot as plt\n",
    "import time\n",
    "import math\n",
    "\n",
    "import warnings\n",
    "warnings.filterwarnings(action='ignore')"
   ]
  },
  {
   "cell_type": "code",
   "execution_count": 2,
   "id": "4c13f286",
   "metadata": {},
   "outputs": [
    {
     "data": {
      "text/html": [
       "<div>\n",
       "<style scoped>\n",
       "    .dataframe tbody tr th:only-of-type {\n",
       "        vertical-align: middle;\n",
       "    }\n",
       "\n",
       "    .dataframe tbody tr th {\n",
       "        vertical-align: top;\n",
       "    }\n",
       "\n",
       "    .dataframe thead th {\n",
       "        text-align: right;\n",
       "    }\n",
       "</style>\n",
       "<table border=\"1\" class=\"dataframe\">\n",
       "  <thead>\n",
       "    <tr style=\"text-align: right;\">\n",
       "      <th></th>\n",
       "      <th>발전기명</th>\n",
       "      <th>년월일</th>\n",
       "      <th>설비용량(MW)</th>\n",
       "      <th>1</th>\n",
       "      <th>2</th>\n",
       "      <th>3</th>\n",
       "      <th>4</th>\n",
       "      <th>5</th>\n",
       "      <th>6</th>\n",
       "      <th>7</th>\n",
       "      <th>...</th>\n",
       "      <th>15</th>\n",
       "      <th>16</th>\n",
       "      <th>17</th>\n",
       "      <th>18</th>\n",
       "      <th>19</th>\n",
       "      <th>20</th>\n",
       "      <th>21</th>\n",
       "      <th>22</th>\n",
       "      <th>23</th>\n",
       "      <th>24</th>\n",
       "    </tr>\n",
       "  </thead>\n",
       "  <tbody>\n",
       "    <tr>\n",
       "      <th>0</th>\n",
       "      <td>세종시폐기물매립장태양광</td>\n",
       "      <td>2017-01-01</td>\n",
       "      <td>1.628</td>\n",
       "      <td>0</td>\n",
       "      <td>0</td>\n",
       "      <td>0</td>\n",
       "      <td>0</td>\n",
       "      <td>0</td>\n",
       "      <td>0</td>\n",
       "      <td>0</td>\n",
       "      <td>...</td>\n",
       "      <td>742080</td>\n",
       "      <td>334440</td>\n",
       "      <td>87240</td>\n",
       "      <td>2880</td>\n",
       "      <td>4320</td>\n",
       "      <td>0</td>\n",
       "      <td>0</td>\n",
       "      <td>0</td>\n",
       "      <td>0</td>\n",
       "      <td>0</td>\n",
       "    </tr>\n",
       "    <tr>\n",
       "      <th>1</th>\n",
       "      <td>세종시폐기물매립장태양광</td>\n",
       "      <td>2017-01-02</td>\n",
       "      <td>1.628</td>\n",
       "      <td>0</td>\n",
       "      <td>0</td>\n",
       "      <td>0</td>\n",
       "      <td>0</td>\n",
       "      <td>0</td>\n",
       "      <td>0</td>\n",
       "      <td>0</td>\n",
       "      <td>...</td>\n",
       "      <td>606360</td>\n",
       "      <td>501120</td>\n",
       "      <td>158280</td>\n",
       "      <td>2760</td>\n",
       "      <td>3360</td>\n",
       "      <td>0</td>\n",
       "      <td>0</td>\n",
       "      <td>0</td>\n",
       "      <td>0</td>\n",
       "      <td>0</td>\n",
       "    </tr>\n",
       "    <tr>\n",
       "      <th>2</th>\n",
       "      <td>세종시폐기물매립장태양광</td>\n",
       "      <td>2017-01-03</td>\n",
       "      <td>1.628</td>\n",
       "      <td>0</td>\n",
       "      <td>0</td>\n",
       "      <td>0</td>\n",
       "      <td>0</td>\n",
       "      <td>0</td>\n",
       "      <td>0</td>\n",
       "      <td>0</td>\n",
       "      <td>...</td>\n",
       "      <td>881040</td>\n",
       "      <td>557040</td>\n",
       "      <td>128640</td>\n",
       "      <td>2280</td>\n",
       "      <td>3000</td>\n",
       "      <td>0</td>\n",
       "      <td>0</td>\n",
       "      <td>0</td>\n",
       "      <td>0</td>\n",
       "      <td>0</td>\n",
       "    </tr>\n",
       "    <tr>\n",
       "      <th>3</th>\n",
       "      <td>세종시폐기물매립장태양광</td>\n",
       "      <td>2017-01-04</td>\n",
       "      <td>1.628</td>\n",
       "      <td>0</td>\n",
       "      <td>0</td>\n",
       "      <td>0</td>\n",
       "      <td>0</td>\n",
       "      <td>0</td>\n",
       "      <td>0</td>\n",
       "      <td>0</td>\n",
       "      <td>...</td>\n",
       "      <td>677280</td>\n",
       "      <td>502320</td>\n",
       "      <td>112080</td>\n",
       "      <td>1800</td>\n",
       "      <td>2760</td>\n",
       "      <td>0</td>\n",
       "      <td>0</td>\n",
       "      <td>0</td>\n",
       "      <td>0</td>\n",
       "      <td>0</td>\n",
       "    </tr>\n",
       "    <tr>\n",
       "      <th>4</th>\n",
       "      <td>세종시폐기물매립장태양광</td>\n",
       "      <td>2017-01-05</td>\n",
       "      <td>1.628</td>\n",
       "      <td>0</td>\n",
       "      <td>0</td>\n",
       "      <td>0</td>\n",
       "      <td>0</td>\n",
       "      <td>0</td>\n",
       "      <td>0</td>\n",
       "      <td>0</td>\n",
       "      <td>...</td>\n",
       "      <td>259560</td>\n",
       "      <td>138840</td>\n",
       "      <td>45000</td>\n",
       "      <td>2520</td>\n",
       "      <td>2880</td>\n",
       "      <td>0</td>\n",
       "      <td>0</td>\n",
       "      <td>0</td>\n",
       "      <td>0</td>\n",
       "      <td>0</td>\n",
       "    </tr>\n",
       "  </tbody>\n",
       "</table>\n",
       "<p>5 rows × 27 columns</p>\n",
       "</div>"
      ],
      "text/plain": [
       "           발전기명         년월일  설비용량(MW)  1  2  3  4  5  6  7  ...      15  \\\n",
       "0  세종시폐기물매립장태양광  2017-01-01     1.628  0  0  0  0  0  0  0  ...  742080   \n",
       "1  세종시폐기물매립장태양광  2017-01-02     1.628  0  0  0  0  0  0  0  ...  606360   \n",
       "2  세종시폐기물매립장태양광  2017-01-03     1.628  0  0  0  0  0  0  0  ...  881040   \n",
       "3  세종시폐기물매립장태양광  2017-01-04     1.628  0  0  0  0  0  0  0  ...  677280   \n",
       "4  세종시폐기물매립장태양광  2017-01-05     1.628  0  0  0  0  0  0  0  ...  259560   \n",
       "\n",
       "       16      17    18    19  20  21  22  23  24  \n",
       "0  334440   87240  2880  4320   0   0   0   0   0  \n",
       "1  501120  158280  2760  3360   0   0   0   0   0  \n",
       "2  557040  128640  2280  3000   0   0   0   0   0  \n",
       "3  502320  112080  1800  2760   0   0   0   0   0  \n",
       "4  138840   45000  2520  2880   0   0   0   0   0  \n",
       "\n",
       "[5 rows x 27 columns]"
      ]
     },
     "execution_count": 2,
     "metadata": {},
     "output_type": "execute_result"
    }
   ],
   "source": [
    "#발전기명, 년월일, 설비용량(MW)\t01시\t02시\t03시\t04시\t05시\t06시\t07시\t08시\t09시\t10시\t11시\t12시\t13시\t14시\t15시\t16시\t17시\t18시\t19시\t20시\t21시\t22시\t23시\t24시\n",
    "\n",
    "dataset1 = pd.read_csv('C:/Users/user/Desktop/Jupyter/Data/태양광_세종.csv', encoding='cp949')\n",
    "dataset2 = pd.read_csv('C:/Users/user/Desktop/Jupyter/Data/태양광_안산.csv', encoding='cp949')\n",
    "dataset3 = pd.read_csv('C:/Users/user/Desktop/Jupyter/Data/태양광_영암.csv', encoding='cp949')\n",
    "\n",
    "dataset1.head()"
   ]
  },
  {
   "cell_type": "markdown",
   "id": "94889df2",
   "metadata": {},
   "source": [
    "### * nan 값 0으로 대체"
   ]
  },
  {
   "cell_type": "code",
   "execution_count": 3,
   "id": "72d3b8df",
   "metadata": {},
   "outputs": [
    {
     "name": "stdout",
     "output_type": "stream",
     "text": [
      "Before :  6 5 1\n",
      "After :  0 0 0\n"
     ]
    }
   ],
   "source": [
    "total_nan_dataset1, total_nan_dataset2, total_nan_dataset3 = dataset1.isnull().sum().sum(), dataset2.isnull().sum().sum(), dataset3.isnull().sum().sum()\n",
    "\n",
    "print(\"Before : \", total_nan_dataset1, total_nan_dataset2, total_nan_dataset3)\n",
    "\n",
    "dataset1, dataset2, dataset3 = dataset1.fillna(0), dataset2.fillna(0), dataset3.fillna(0)\n",
    "total_nan_dataset1, total_nan_dataset2, total_nan_dataset3 = dataset1.isnull().sum().sum(), dataset2.isnull().sum().sum(), dataset3.isnull().sum().sum()\n",
    "\n",
    "print(\"After : \", total_nan_dataset1, total_nan_dataset2, total_nan_dataset3)\n"
   ]
  },
  {
   "cell_type": "code",
   "execution_count": 4,
   "id": "8316ece3",
   "metadata": {},
   "outputs": [
    {
     "data": {
      "text/plain": [
       "(40728, 40728, 40728)"
      ]
     },
     "execution_count": 4,
     "metadata": {},
     "output_type": "execute_result"
    }
   ],
   "source": [
    "new_dataset1, new_dataset2, new_dataset3 = [], [], []\n",
    "\n",
    "for i in range(len(dataset1)):\n",
    "    new_dataset1.extend(dataset1.iloc[i,3:])\n",
    "\n",
    "for i in range(len(dataset2)):\n",
    "    new_dataset2.extend(dataset2.iloc[i,3:])\n",
    "\n",
    "for i in range(len(dataset3)):\n",
    "    new_dataset3.extend(dataset3.iloc[i,3:])\n",
    "    \n",
    "len(new_dataset1), len(new_dataset2), len(new_dataset3)"
   ]
  },
  {
   "cell_type": "code",
   "execution_count": 5,
   "id": "df036ccd",
   "metadata": {},
   "outputs": [
    {
     "data": {
      "text/plain": [
       "[<matplotlib.lines.Line2D at 0x1daf2afc550>]"
      ]
     },
     "execution_count": 5,
     "metadata": {},
     "output_type": "execute_result"
    },
    {
     "data": {
      "image/png": "[encoded data removed]",
      "text/plain": [
       "<Figure size 432x288 with 1 Axes>"
      ]
     },
     "metadata": {
      "needs_background": "light"
     },
     "output_type": "display_data"
    }
   ],
   "source": [
    "plt.plot(new_dataset1)"
   ]
  },
  {
   "cell_type": "code",
   "execution_count": 6,
   "id": "07bdd1b9",
   "metadata": {},
   "outputs": [
    {
     "data": {
      "text/html": [
       "<div>\n",
       "<style scoped>\n",
       "    .dataframe tbody tr th:only-of-type {\n",
       "        vertical-align: middle;\n",
       "    }\n",
       "\n",
       "    .dataframe tbody tr th {\n",
       "        vertical-align: top;\n",
       "    }\n",
       "\n",
       "    .dataframe thead th {\n",
       "        text-align: right;\n",
       "    }\n",
       "</style>\n",
       "<table border=\"1\" class=\"dataframe\">\n",
       "  <thead>\n",
       "    <tr style=\"text-align: right;\">\n",
       "      <th></th>\n",
       "      <th>local1</th>\n",
       "      <th>local2</th>\n",
       "      <th>local3</th>\n",
       "    </tr>\n",
       "  </thead>\n",
       "  <tbody>\n",
       "    <tr>\n",
       "      <th>0</th>\n",
       "      <td>0.0</td>\n",
       "      <td>0.0</td>\n",
       "      <td>0.0</td>\n",
       "    </tr>\n",
       "    <tr>\n",
       "      <th>1</th>\n",
       "      <td>0.0</td>\n",
       "      <td>0.0</td>\n",
       "      <td>0.0</td>\n",
       "    </tr>\n",
       "    <tr>\n",
       "      <th>2</th>\n",
       "      <td>0.0</td>\n",
       "      <td>0.0</td>\n",
       "      <td>0.0</td>\n",
       "    </tr>\n",
       "    <tr>\n",
       "      <th>3</th>\n",
       "      <td>0.0</td>\n",
       "      <td>0.0</td>\n",
       "      <td>0.0</td>\n",
       "    </tr>\n",
       "    <tr>\n",
       "      <th>4</th>\n",
       "      <td>0.0</td>\n",
       "      <td>0.0</td>\n",
       "      <td>0.0</td>\n",
       "    </tr>\n",
       "    <tr>\n",
       "      <th>...</th>\n",
       "      <td>...</td>\n",
       "      <td>...</td>\n",
       "      <td>...</td>\n",
       "    </tr>\n",
       "    <tr>\n",
       "      <th>40723</th>\n",
       "      <td>0.0</td>\n",
       "      <td>0.0</td>\n",
       "      <td>0.0</td>\n",
       "    </tr>\n",
       "    <tr>\n",
       "      <th>40724</th>\n",
       "      <td>0.0</td>\n",
       "      <td>0.0</td>\n",
       "      <td>0.0</td>\n",
       "    </tr>\n",
       "    <tr>\n",
       "      <th>40725</th>\n",
       "      <td>0.0</td>\n",
       "      <td>0.0</td>\n",
       "      <td>0.0</td>\n",
       "    </tr>\n",
       "    <tr>\n",
       "      <th>40726</th>\n",
       "      <td>0.0</td>\n",
       "      <td>0.0</td>\n",
       "      <td>0.0</td>\n",
       "    </tr>\n",
       "    <tr>\n",
       "      <th>40727</th>\n",
       "      <td>0.0</td>\n",
       "      <td>0.0</td>\n",
       "      <td>0.0</td>\n",
       "    </tr>\n",
       "  </tbody>\n",
       "</table>\n",
       "<p>40728 rows × 3 columns</p>\n",
       "</div>"
      ],
      "text/plain": [
       "       local1  local2  local3\n",
       "0         0.0     0.0     0.0\n",
       "1         0.0     0.0     0.0\n",
       "2         0.0     0.0     0.0\n",
       "3         0.0     0.0     0.0\n",
       "4         0.0     0.0     0.0\n",
       "...       ...     ...     ...\n",
       "40723     0.0     0.0     0.0\n",
       "40724     0.0     0.0     0.0\n",
       "40725     0.0     0.0     0.0\n",
       "40726     0.0     0.0     0.0\n",
       "40727     0.0     0.0     0.0\n",
       "\n",
       "[40728 rows x 3 columns]"
      ]
     },
     "execution_count": 6,
     "metadata": {},
     "output_type": "execute_result"
    }
   ],
   "source": [
    "df = pd.DataFrame({'local1':new_dataset1,\n",
    "                   'local2':new_dataset2,\n",
    "                   'local3':new_dataset3})\n",
    "\n",
    "df"
   ]
  },
  {
   "cell_type": "code",
   "execution_count": null,
   "id": "79d9b521",
   "metadata": {},
   "outputs": [],
   "source": []
  },
  {
   "cell_type": "code",
   "execution_count": null,
   "id": "4ab2b56b",
   "metadata": {},
   "outputs": [],
   "source": []
  },
  {
   "cell_type": "code",
   "execution_count": 7,
   "id": "27607c37",
   "metadata": {},
   "outputs": [],
   "source": [
    "import numpy as np\n",
    "import pandas as pd\n",
    "import tensorflow as tf\n",
    "import matplotlib.pyplot as plt\n",
    "import time\n",
    "import math\n",
    "import random\n",
    "import warnings\n",
    "warnings.filterwarnings('ignore')\n",
    "\n",
    "import keras\n",
    "from tensorflow import keras\n",
    "from keras.layers import Dense, Dropout, Flatten, Activation, LSTM\n",
    "from keras.engine import input_layer\n",
    "from keras.models import Sequential\n",
    "\n",
    "from sklearn.preprocessing import MinMaxScaler\n",
    "from sklearn.metrics import mean_squared_error"
   ]
  },
  {
   "cell_type": "code",
   "execution_count": 9,
   "id": "a61bff2b",
   "metadata": {},
   "outputs": [
    {
     "data": {
      "text/plain": [
       "array([[0., 0., 0.],\n",
       "       [0., 0., 0.],\n",
       "       [0., 0., 0.],\n",
       "       ...,\n",
       "       [0., 0., 0.],\n",
       "       [0., 0., 0.],\n",
       "       [0., 0., 0.]])"
      ]
     },
     "execution_count": 9,
     "metadata": {},
     "output_type": "execute_result"
    }
   ],
   "source": [
    "df1 = np.array(df)\n",
    "df1"
   ]
  },
  {
   "cell_type": "code",
   "execution_count": 10,
   "id": "ffaa631e",
   "metadata": {},
   "outputs": [
    {
     "data": {
      "text/plain": [
       "((40728, 3), 40728)"
      ]
     },
     "execution_count": 10,
     "metadata": {},
     "output_type": "execute_result"
    }
   ],
   "source": [
    "df1.shape, len(df1)"
   ]
  },
  {
   "cell_type": "code",
   "execution_count": 11,
   "id": "cb66830e",
   "metadata": {},
   "outputs": [
    {
     "name": "stdout",
     "output_type": "stream",
     "text": [
      "36655 4073\n"
     ]
    }
   ],
   "source": [
    "num_locals = 4\n",
    "\n",
    "scaler = MinMaxScaler(feature_range=(0,1))\n",
    "\n",
    "df1 = scaler.fit_transform(df1)\n",
    "    \n",
    "train_size = int(len(df1)*0.90)\n",
    "test_size = len(df1) - train_size\n",
    "\n",
    "train, test = df1[0:train_size, :], df1[train_size:len(df1),:]\n",
    "print(len(train), len(test))"
   ]
  },
  {
   "cell_type": "code",
   "execution_count": 12,
   "id": "de9875e3",
   "metadata": {},
   "outputs": [
    {
     "data": {
      "text/plain": [
       "(36655, 3)"
      ]
     },
     "execution_count": 12,
     "metadata": {},
     "output_type": "execute_result"
    }
   ],
   "source": [
    "train.shape"
   ]
  },
  {
   "cell_type": "code",
   "execution_count": 19,
   "id": "cf501034",
   "metadata": {},
   "outputs": [],
   "source": [
    "def create_dataset(dataset, look_back=1):\n",
    "    dataX, dataY = [], []\n",
    "    for i in range(len(dataset) - look_back- 1):\n",
    "        a = dataset[i:(i+look_back), 0]\n",
    "        dataX.append(a)\n",
    "        dataY.append(dataset[i + look_back, 0])\n",
    "    \n",
    "    return np.array(dataX), np.array(dataY)\n",
    "\n",
    "def local_model_generate(model): #초기 모델 생성\n",
    "    model.add(LSTM(1, input_shape=(1, look_back)))\n",
    "    model.add(Dense(10, activation='relu'))\n",
    "    model.add(Dense(1))\n",
    "    model.compile(loss='mean_squared_error', optimizer='adam')\n",
    "    \n",
    "    return model\n"
   ]
  },
  {
   "cell_type": "code",
   "execution_count": 20,
   "id": "e46c1e8a",
   "metadata": {
    "scrolled": true
   },
   "outputs": [
    {
     "name": "stdout",
     "output_type": "stream",
     "text": [
      "36653 36653 4071 4071\n",
      "Epoch 1/30\n",
      "2933/2933 [==============================] - 5s 1ms/step - loss: 0.0154 - val_loss: 0.0099\n",
      "Epoch 2/30\n",
      "2933/2933 [==============================] - 3s 1ms/step - loss: 0.0110 - val_loss: 0.0096\n",
      "Epoch 3/30\n",
      "2933/2933 [==============================] - 3s 1ms/step - loss: 0.0110 - val_loss: 0.0096\n",
      "Epoch 4/30\n",
      "2933/2933 [==============================] - 4s 1ms/step - loss: 0.0110 - val_loss: 0.0097\n",
      "Epoch 5/30\n",
      "2933/2933 [==============================] - 3s 1ms/step - loss: 0.0110 - val_loss: 0.0097\n",
      "Epoch 6/30\n",
      "2933/2933 [==============================] - 3s 1ms/step - loss: 0.0110 - val_loss: 0.0100\n",
      "Epoch 7/30\n",
      "2933/2933 [==============================] - 3s 1ms/step - loss: 0.0110 - val_loss: 0.0096\n",
      "Epoch 8/30\n",
      "2933/2933 [==============================] - 3s 1ms/step - loss: 0.0109 - val_loss: 0.0096\n",
      "Epoch 9/30\n",
      "2933/2933 [==============================] - 3s 1ms/step - loss: 0.0109 - val_loss: 0.0096\n",
      "Epoch 10/30\n",
      "2933/2933 [==============================] - 3s 1ms/step - loss: 0.0110 - val_loss: 0.0096\n",
      "Epoch 11/30\n",
      "2933/2933 [==============================] - 3s 1ms/step - loss: 0.0109 - val_loss: 0.0097\n",
      "Epoch 12/30\n",
      "2933/2933 [==============================] - 3s 1ms/step - loss: 0.0109 - val_loss: 0.0096\n",
      "Epoch 13/30\n",
      "2933/2933 [==============================] - 3s 1ms/step - loss: 0.0109 - val_loss: 0.0099\n",
      "Epoch 14/30\n",
      "2933/2933 [==============================] - 3s 1ms/step - loss: 0.0109 - val_loss: 0.0101\n",
      "Epoch 15/30\n",
      "2933/2933 [==============================] - 3s 1ms/step - loss: 0.0109 - val_loss: 0.0096\n",
      "Epoch 16/30\n",
      "2933/2933 [==============================] - 3s 1ms/step - loss: 0.0109 - val_loss: 0.0096\n",
      "Epoch 17/30\n",
      "2933/2933 [==============================] - 3s 1ms/step - loss: 0.0109 - val_loss: 0.0097\n",
      "Epoch 18/30\n",
      "2933/2933 [==============================] - 3s 1ms/step - loss: 0.0109 - val_loss: 0.0097\n",
      "Epoch 19/30\n",
      "2933/2933 [==============================] - 4s 1ms/step - loss: 0.0109 - val_loss: 0.0096\n",
      "Epoch 20/30\n",
      "2933/2933 [==============================] - 4s 1ms/step - loss: 0.0109 - val_loss: 0.0096\n",
      "Epoch 21/30\n",
      "2933/2933 [==============================] - 4s 1ms/step - loss: 0.0109 - val_loss: 0.0096\n",
      "Epoch 22/30\n",
      "2933/2933 [==============================] - 3s 1ms/step - loss: 0.0109 - val_loss: 0.0098\n",
      "Epoch 23/30\n",
      "2933/2933 [==============================] - 3s 1ms/step - loss: 0.0109 - val_loss: 0.0098\n",
      "Epoch 24/30\n",
      "2933/2933 [==============================] - 3s 1ms/step - loss: 0.0109 - val_loss: 0.0096\n",
      "Epoch 25/30\n",
      "2933/2933 [==============================] - 3s 1ms/step - loss: 0.0109 - val_loss: 0.0098\n",
      "Epoch 26/30\n",
      "2933/2933 [==============================] - 4s 1ms/step - loss: 0.0109 - val_loss: 0.0096\n",
      "Epoch 27/30\n",
      "2933/2933 [==============================] - 3s 1ms/step - loss: 0.0109 - val_loss: 0.0097\n",
      "Epoch 28/30\n",
      "2933/2933 [==============================] - 3s 1ms/step - loss: 0.0109 - val_loss: 0.0097\n",
      "Epoch 29/30\n",
      "2933/2933 [==============================] - 3s 1ms/step - loss: 0.0109 - val_loss: 0.0097\n",
      "Epoch 30/30\n",
      "2933/2933 [==============================] - 3s 1ms/step - loss: 0.0109 - val_loss: 0.0098\n"
     ]
    }
   ],
   "source": [
    "look_back = 1\n",
    "local_epoch = 30\n",
    "local_batch = 10\n",
    "\n",
    "\n",
    "trainX, trainY = create_dataset(train, look_back)\n",
    "testX, testY = create_dataset(test, look_back)\n",
    "print(len(trainX), len(trainY), len(testX),  len(testY))\n",
    "    \n",
    "#trainX = np.reshape(trainX, (trainX.shape[0], 1, trainX.shape[1]))\n",
    "#testX = np.reshape(testX, (testX.shape[0], 1, testX.shape[1]))\n",
    "\n",
    "model = Sequential()\n",
    "local_model_generate(model)\n",
    "history = model.fit(trainX, trainY, epochs=local_epoch, validation_split=0.2, batch_size=local_batch, verbose=1)\n",
    "\n",
    "hist = pd.DataFrame(history.history)"
   ]
  },
  {
   "cell_type": "code",
   "execution_count": 22,
   "id": "c6a62761",
   "metadata": {},
   "outputs": [
    {
     "data": {
      "image/png": "[encoded data removed]",
      "text/plain": [
       "<Figure size 432x288 with 1 Axes>"
      ]
     },
     "metadata": {
      "needs_background": "light"
     },
     "output_type": "display_data"
    }
   ],
   "source": [
    "plt.title('Loss / Mean Squared Error')\n",
    "plt.plot(hist['loss'], label='train', marker='o')\n",
    "plt.plot(hist['val_loss'], label='test', marker='o')\n",
    "plt.xlabel('epoch')\n",
    "#plt.ylim(0.0092,0.013)\n",
    "plt.legend()\n",
    "plt.show()"
   ]
  },
  {
   "cell_type": "code",
   "execution_count": null,
   "id": "13272dc6",
   "metadata": {},
   "outputs": [],
   "source": [
    "plt.title('Loss / Mean Squared Error')\n",
    "plt.plot(history2.history['loss'], label='train', marker='o')\n",
    "plt.plot(history2.history['val_loss'], label='test', marker='o')\n",
    "plt.xlabel('epoch')\n",
    "#plt.ylim(0.0092,0.013)\n",
    "plt.legend()\n",
    "plt.show()"
   ]
  },
  {
   "cell_type": "code",
   "execution_count": null,
   "id": "2239cba3",
   "metadata": {},
   "outputs": [],
   "source": [
    "plt.title('Loss / Mean Squared Error')\n",
    "plt.plot(history3.history['loss'], label='train', marker='o')\n",
    "plt.plot(history3.history['val_loss'], label='test', marker='o')\n",
    "plt.xlabel('epoch')\n",
    "#plt.ylim(0.0092,0.013)\n",
    "plt.legend()\n",
    "plt.show()"
   ]
  },
  {
   "cell_type": "code",
   "execution_count": null,
   "id": "fd4a2d5b",
   "metadata": {},
   "outputs": [],
   "source": []
  },
  {
   "cell_type": "code",
   "execution_count": 23,
   "id": "b5bebaa6",
   "metadata": {},
   "outputs": [
    {
     "ename": "KeyError",
     "evalue": "'model1'",
     "output_type": "error",
     "traceback": [
      "\u001b[1;31m---------------------------------------------------------------------------\u001b[0m",
      "\u001b[1;31mKeyError\u001b[0m                                  Traceback (most recent call last)",
      "Input \u001b[1;32mIn [23]\u001b[0m, in \u001b[0;36m<cell line: 1>\u001b[1;34m()\u001b[0m\n\u001b[0;32m      1\u001b[0m \u001b[38;5;28;01mfor\u001b[39;00m i \u001b[38;5;129;01min\u001b[39;00m \u001b[38;5;28mrange\u001b[39m(\u001b[38;5;241m1\u001b[39m, num_locals):\n\u001b[1;32m----> 2\u001b[0m     trainPredict \u001b[38;5;241m=\u001b[39m \u001b[38;5;28;43mglobals\u001b[39;49m\u001b[43m(\u001b[49m\u001b[43m)\u001b[49m\u001b[43m[\u001b[49m\u001b[38;5;124;43m'\u001b[39;49m\u001b[38;5;124;43mmodel\u001b[39;49m\u001b[38;5;132;43;01m{}\u001b[39;49;00m\u001b[38;5;124;43m'\u001b[39;49m\u001b[38;5;241;43m.\u001b[39;49m\u001b[43mformat\u001b[49m\u001b[43m(\u001b[49m\u001b[43mi\u001b[49m\u001b[43m)\u001b[49m\u001b[43m]\u001b[49m\u001b[38;5;241m.\u001b[39mpredict(trainX)\n\u001b[0;32m      3\u001b[0m     testPredict \u001b[38;5;241m=\u001b[39m \u001b[38;5;28mglobals\u001b[39m()[\u001b[38;5;124m'\u001b[39m\u001b[38;5;124mmodel\u001b[39m\u001b[38;5;132;01m{}\u001b[39;00m\u001b[38;5;124m'\u001b[39m\u001b[38;5;241m.\u001b[39mformat(i)]\u001b[38;5;241m.\u001b[39mpredict(testX)\n\u001b[0;32m      5\u001b[0m     trainPredict \u001b[38;5;241m=\u001b[39m scaler\u001b[38;5;241m.\u001b[39minverse_transform(trainPredict)\n",
      "\u001b[1;31mKeyError\u001b[0m: 'model1'"
     ]
    }
   ],
   "source": [
    "for i in range(1, num_locals):\n",
    "    trainPredict = globals()['model{}'.format(i)].predict(trainX)\n",
    "    testPredict = globals()['model{}'.format(i)].predict(testX)\n",
    "\n",
    "    trainPredict = scaler.inverse_transform(trainPredict)\n",
    "    trainY = scaler.inverse_transform([trainY])\n",
    "    testPredict = scaler.inverse_transform(testPredict)\n",
    "    testY = scaler.inverse_transform([testY])\n",
    "    \n",
    "    globals()['trainScore_{}'.format(i)] = math.sqrt(mean_squared_error(trainY[0], trainPredict[:,0]))#RMSE\n",
    "    globals()['testScore_{}'.format(i)] = math.sqrt(mean_squared_error(testY[0], testPredict[:,0]))"
   ]
  },
  {
   "cell_type": "code",
   "execution_count": null,
   "id": "09fdc7f7",
   "metadata": {},
   "outputs": [],
   "source": [
    "train_mse = model1.evaluate(trainX, trainY[0], verbose=0)\n",
    "test_mse = model1.evaluate(testX, testY[0], verbose=0)\n",
    "print('Train: %.3f, Test: %.3f' % (train_mse, test_mse))\n",
    "\n",
    "# plot loss during training\n",
    "plt.title('Loss / Mean Squared Error')\n",
    "plt.plot(history.history['loss'], label='train', marker='o')\n",
    "plt.plot(history.history['val_loss'], label='test', marker='o')\n",
    "plt.xlabel('epoch')\n",
    "#plt.ylim(0.0092,0.013)\n",
    "plt.legend()\n",
    "plt.show()"
   ]
  },
  {
   "cell_type": "code",
   "execution_count": 24,
   "id": "08aaf854",
   "metadata": {},
   "outputs": [
    {
     "ename": "NameError",
     "evalue": "name 'local1' is not defined",
     "output_type": "error",
     "traceback": [
      "\u001b[1;31m---------------------------------------------------------------------------\u001b[0m",
      "\u001b[1;31mNameError\u001b[0m                                 Traceback (most recent call last)",
      "Input \u001b[1;32mIn [24]\u001b[0m, in \u001b[0;36m<cell line: 2>\u001b[1;34m()\u001b[0m\n\u001b[0;32m      1\u001b[0m \u001b[38;5;66;03m#plot-------------------------------------------------\u001b[39;00m\n\u001b[1;32m----> 2\u001b[0m trainPredict_plot \u001b[38;5;241m=\u001b[39m np\u001b[38;5;241m.\u001b[39mempty_like(\u001b[43mlocal1\u001b[49m)\n\u001b[0;32m      3\u001b[0m trainPredict_plot[:,:] \u001b[38;5;241m=\u001b[39m np\u001b[38;5;241m.\u001b[39mnan\n\u001b[0;32m      4\u001b[0m trainPredict_plot[look_back:\u001b[38;5;28mlen\u001b[39m(trainPredict)\u001b[38;5;241m+\u001b[39mlook_back, :] \u001b[38;5;241m=\u001b[39m trainPredict\n",
      "\u001b[1;31mNameError\u001b[0m: name 'local1' is not defined"
     ]
    }
   ],
   "source": [
    "#plot-------------------------------------------------\n",
    "trainPredict_plot = np.empty_like(local1)\n",
    "trainPredict_plot[:,:] = np.nan\n",
    "trainPredict_plot[look_back:len(trainPredict)+look_back, :] = trainPredict\n",
    "\n",
    "testPredict_plot = np.empty_like(local1)\n",
    "testPredict_plot[:,:] = np.nan\n",
    "testPredict_plot[len(trainPredict)+(look_back*2)+1:len(local1)-1, :] = testPredict\n",
    "\n",
    "plt.figure(figsize=(15,8))\n",
    "plt.plot(scaler.inverse_transform(local1), label='Local1')\n",
    "plt.plot(trainPredict_plot, label='Train predict')\n",
    "plt.plot(testPredict_plot, label='Test predict')\n",
    "plt.legend()\n",
    "plt.show()"
   ]
  },
  {
   "cell_type": "code",
   "execution_count": null,
   "id": "a4795e2c",
   "metadata": {},
   "outputs": [],
   "source": [
    "trainScore_1, testScore_1, trainScore_1/len(trainY[0]), testScore_1/len(testY[0])"
   ]
  },
  {
   "cell_type": "code",
   "execution_count": null,
   "id": "7e0d4dca",
   "metadata": {},
   "outputs": [],
   "source": [
    "(153501.65531338903, 148159.70787192753, 5.619272076486768, 11.011498169596992)\n"
   ]
  },
  {
   "cell_type": "code",
   "execution_count": 26,
   "id": "65dd1cf1",
   "metadata": {},
   "outputs": [
    {
     "name": "stdout",
     "output_type": "stream",
     "text": [
      "128/128 - 0s - loss: 0.0094 - 90ms/epoch - 706us/step\n"
     ]
    },
    {
     "ename": "TypeError",
     "evalue": "cannot unpack non-iterable float object",
     "output_type": "error",
     "traceback": [
      "\u001b[1;31m---------------------------------------------------------------------------\u001b[0m",
      "\u001b[1;31mTypeError\u001b[0m                                 Traceback (most recent call last)",
      "Input \u001b[1;32mIn [26]\u001b[0m, in \u001b[0;36m<cell line: 1>\u001b[1;34m()\u001b[0m\n\u001b[1;32m----> 1\u001b[0m loss, mae, mse \u001b[38;5;241m=\u001b[39m model\u001b[38;5;241m.\u001b[39mevaluate(testX, testY, verbose\u001b[38;5;241m=\u001b[39m\u001b[38;5;241m2\u001b[39m)\n\u001b[0;32m      3\u001b[0m \u001b[38;5;28mprint\u001b[39m(\u001b[38;5;124m\"\u001b[39m\u001b[38;5;124m테스트 세트의 평균 절대 오차: \u001b[39m\u001b[38;5;132;01m{:5.2f}\u001b[39;00m\u001b[38;5;124m MPG\u001b[39m\u001b[38;5;124m\"\u001b[39m\u001b[38;5;241m.\u001b[39mformat(mae))\n",
      "\u001b[1;31mTypeError\u001b[0m: cannot unpack non-iterable float object"
     ]
    }
   ],
   "source": [
    "loss, mae, mse = model.evaluate(testX, testY, verbose=2)\n",
    "\n",
    "print(\"테스트 세트의 평균 절대 오차: {:5.2f} MPG\".format(mae))"
   ]
  },
  {
   "cell_type": "code",
   "execution_count": null,
   "id": "9f6d42d1",
   "metadata": {},
   "outputs": [],
   "source": []
  }
 ],
 "metadata": {
  "kernelspec": {
   "display_name": "Python 3 (ipykernel)",
   "language": "python",
   "name": "python3"
  },
  "language_info": {
   "codemirror_mode": {
    "name": "ipython",
    "version": 3
   },
   "file_extension": ".py",
   "mimetype": "text/x-python",
   "name": "python",
   "nbconvert_exporter": "python",
   "pygments_lexer": "ipython3",
   "version": "3.9.12"
  }
 },
 "nbformat": 4,
 "nbformat_minor": 5
}
