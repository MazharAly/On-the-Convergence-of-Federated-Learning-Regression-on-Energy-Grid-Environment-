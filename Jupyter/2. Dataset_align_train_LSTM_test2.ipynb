{
 "cells": [
  {
   "cell_type": "code",
   "execution_count": 1,
   "id": "43ad3c98",
   "metadata": {},
   "outputs": [],
   "source": [
    "import pandas as pd\n",
    "import numpy as np\n",
    "import seaborn as sns\n",
    "import matplotlib.pyplot as plt\n",
    "import time\n",
    "import math\n",
    "\n",
    "import warnings\n",
    "warnings.filterwarnings(action='ignore')"
   ]
  },
  {
   "cell_type": "code",
   "execution_count": 2,
   "id": "4c13f286",
   "metadata": {},
   "outputs": [
    {
     "data": {
      "text/html": [
       "<div>\n",
       "<style scoped>\n",
       "    .dataframe tbody tr th:only-of-type {\n",
       "        vertical-align: middle;\n",
       "    }\n",
       "\n",
       "    .dataframe tbody tr th {\n",
       "        vertical-align: top;\n",
       "    }\n",
       "\n",
       "    .dataframe thead th {\n",
       "        text-align: right;\n",
       "    }\n",
       "</style>\n",
       "<table border=\"1\" class=\"dataframe\">\n",
       "  <thead>\n",
       "    <tr style=\"text-align: right;\">\n",
       "      <th></th>\n",
       "      <th>발전기명</th>\n",
       "      <th>년월일</th>\n",
       "      <th>설비용량(MW)</th>\n",
       "      <th>1</th>\n",
       "      <th>2</th>\n",
       "      <th>3</th>\n",
       "      <th>4</th>\n",
       "      <th>5</th>\n",
       "      <th>6</th>\n",
       "      <th>7</th>\n",
       "      <th>...</th>\n",
       "      <th>15</th>\n",
       "      <th>16</th>\n",
       "      <th>17</th>\n",
       "      <th>18</th>\n",
       "      <th>19</th>\n",
       "      <th>20</th>\n",
       "      <th>21</th>\n",
       "      <th>22</th>\n",
       "      <th>23</th>\n",
       "      <th>24</th>\n",
       "    </tr>\n",
       "  </thead>\n",
       "  <tbody>\n",
       "    <tr>\n",
       "      <th>0</th>\n",
       "      <td>세종시폐기물매립장태양광</td>\n",
       "      <td>2017-01-01</td>\n",
       "      <td>1.628</td>\n",
       "      <td>0</td>\n",
       "      <td>0</td>\n",
       "      <td>0</td>\n",
       "      <td>0</td>\n",
       "      <td>0</td>\n",
       "      <td>0</td>\n",
       "      <td>0</td>\n",
       "      <td>...</td>\n",
       "      <td>742080</td>\n",
       "      <td>334440</td>\n",
       "      <td>87240</td>\n",
       "      <td>2880</td>\n",
       "      <td>4320</td>\n",
       "      <td>0</td>\n",
       "      <td>0</td>\n",
       "      <td>0</td>\n",
       "      <td>0</td>\n",
       "      <td>0</td>\n",
       "    </tr>\n",
       "    <tr>\n",
       "      <th>1</th>\n",
       "      <td>세종시폐기물매립장태양광</td>\n",
       "      <td>2017-01-02</td>\n",
       "      <td>1.628</td>\n",
       "      <td>0</td>\n",
       "      <td>0</td>\n",
       "      <td>0</td>\n",
       "      <td>0</td>\n",
       "      <td>0</td>\n",
       "      <td>0</td>\n",
       "      <td>0</td>\n",
       "      <td>...</td>\n",
       "      <td>606360</td>\n",
       "      <td>501120</td>\n",
       "      <td>158280</td>\n",
       "      <td>2760</td>\n",
       "      <td>3360</td>\n",
       "      <td>0</td>\n",
       "      <td>0</td>\n",
       "      <td>0</td>\n",
       "      <td>0</td>\n",
       "      <td>0</td>\n",
       "    </tr>\n",
       "    <tr>\n",
       "      <th>2</th>\n",
       "      <td>세종시폐기물매립장태양광</td>\n",
       "      <td>2017-01-03</td>\n",
       "      <td>1.628</td>\n",
       "      <td>0</td>\n",
       "      <td>0</td>\n",
       "      <td>0</td>\n",
       "      <td>0</td>\n",
       "      <td>0</td>\n",
       "      <td>0</td>\n",
       "      <td>0</td>\n",
       "      <td>...</td>\n",
       "      <td>881040</td>\n",
       "      <td>557040</td>\n",
       "      <td>128640</td>\n",
       "      <td>2280</td>\n",
       "      <td>3000</td>\n",
       "      <td>0</td>\n",
       "      <td>0</td>\n",
       "      <td>0</td>\n",
       "      <td>0</td>\n",
       "      <td>0</td>\n",
       "    </tr>\n",
       "    <tr>\n",
       "      <th>3</th>\n",
       "      <td>세종시폐기물매립장태양광</td>\n",
       "      <td>2017-01-04</td>\n",
       "      <td>1.628</td>\n",
       "      <td>0</td>\n",
       "      <td>0</td>\n",
       "      <td>0</td>\n",
       "      <td>0</td>\n",
       "      <td>0</td>\n",
       "      <td>0</td>\n",
       "      <td>0</td>\n",
       "      <td>...</td>\n",
       "      <td>677280</td>\n",
       "      <td>502320</td>\n",
       "      <td>112080</td>\n",
       "      <td>1800</td>\n",
       "      <td>2760</td>\n",
       "      <td>0</td>\n",
       "      <td>0</td>\n",
       "      <td>0</td>\n",
       "      <td>0</td>\n",
       "      <td>0</td>\n",
       "    </tr>\n",
       "    <tr>\n",
       "      <th>4</th>\n",
       "      <td>세종시폐기물매립장태양광</td>\n",
       "      <td>2017-01-05</td>\n",
       "      <td>1.628</td>\n",
       "      <td>0</td>\n",
       "      <td>0</td>\n",
       "      <td>0</td>\n",
       "      <td>0</td>\n",
       "      <td>0</td>\n",
       "      <td>0</td>\n",
       "      <td>0</td>\n",
       "      <td>...</td>\n",
       "      <td>259560</td>\n",
       "      <td>138840</td>\n",
       "      <td>45000</td>\n",
       "      <td>2520</td>\n",
       "      <td>2880</td>\n",
       "      <td>0</td>\n",
       "      <td>0</td>\n",
       "      <td>0</td>\n",
       "      <td>0</td>\n",
       "      <td>0</td>\n",
       "    </tr>\n",
       "  </tbody>\n",
       "</table>\n",
       "<p>5 rows × 27 columns</p>\n",
       "</div>"
      ],
      "text/plain": [
       "           발전기명         년월일  설비용량(MW)  1  2  3  4  5  6  7  ...      15  \\\n",
       "0  세종시폐기물매립장태양광  2017-01-01     1.628  0  0  0  0  0  0  0  ...  742080   \n",
       "1  세종시폐기물매립장태양광  2017-01-02     1.628  0  0  0  0  0  0  0  ...  606360   \n",
       "2  세종시폐기물매립장태양광  2017-01-03     1.628  0  0  0  0  0  0  0  ...  881040   \n",
       "3  세종시폐기물매립장태양광  2017-01-04     1.628  0  0  0  0  0  0  0  ...  677280   \n",
       "4  세종시폐기물매립장태양광  2017-01-05     1.628  0  0  0  0  0  0  0  ...  259560   \n",
       "\n",
       "       16      17    18    19  20  21  22  23  24  \n",
       "0  334440   87240  2880  4320   0   0   0   0   0  \n",
       "1  501120  158280  2760  3360   0   0   0   0   0  \n",
       "2  557040  128640  2280  3000   0   0   0   0   0  \n",
       "3  502320  112080  1800  2760   0   0   0   0   0  \n",
       "4  138840   45000  2520  2880   0   0   0   0   0  \n",
       "\n",
       "[5 rows x 27 columns]"
      ]
     },
     "execution_count": 2,
     "metadata": {},
     "output_type": "execute_result"
    }
   ],
   "source": [
    "#발전기명, 년월일, 설비용량(MW)\t01시\t02시\t03시\t04시\t05시\t06시\t07시\t08시\t09시\t10시\t11시\t12시\t13시\t14시\t15시\t16시\t17시\t18시\t19시\t20시\t21시\t22시\t23시\t24시\n",
    "\n",
    "dataset1 = pd.read_csv('C:/Users/user/Desktop/Jupyter/Data/태양광_세종.csv', encoding='cp949')\n",
    "dataset2 = pd.read_csv('C:/Users/user/Desktop/Jupyter/Data/태양광_안산.csv', encoding='cp949')\n",
    "dataset3 = pd.read_csv('C:/Users/user/Desktop/Jupyter/Data/태양광_영암.csv', encoding='cp949')\n",
    "\n",
    "dataset1.head()"
   ]
  },
  {
   "cell_type": "markdown",
   "id": "94889df2",
   "metadata": {},
   "source": [
    "### * nan 값 0으로 대체"
   ]
  },
  {
   "cell_type": "code",
   "execution_count": 4,
   "id": "72d3b8df",
   "metadata": {},
   "outputs": [
    {
     "name": "stdout",
     "output_type": "stream",
     "text": [
      "Before :  0 0 0\n",
      "After :  0 0 0\n"
     ]
    }
   ],
   "source": [
    "total_nan_dataset1, total_nan_dataset2, total_nan_dataset3 = dataset1.isnull().sum().sum(), dataset2.isnull().sum().sum(), dataset3.isnull().sum().sum()\n",
    "\n",
    "print(\"Before : \", total_nan_dataset1, total_nan_dataset2, total_nan_dataset3)\n",
    "\n",
    "dataset1, dataset2, dataset3 = dataset1.fillna(0), dataset2.fillna(0), dataset3.fillna(0)\n",
    "total_nan_dataset1, total_nan_dataset2, total_nan_dataset3 = dataset1.isnull().sum().sum(), dataset2.isnull().sum().sum(), dataset3.isnull().sum().sum()\n",
    "\n",
    "print(\"After : \", total_nan_dataset1, total_nan_dataset2, total_nan_dataset3)\n"
   ]
  },
  {
   "cell_type": "code",
   "execution_count": 5,
   "id": "8316ece3",
   "metadata": {},
   "outputs": [
    {
     "data": {
      "text/plain": [
       "(40728, 40728, 40728)"
      ]
     },
     "execution_count": 5,
     "metadata": {},
     "output_type": "execute_result"
    }
   ],
   "source": [
    "new_dataset1, new_dataset2, new_dataset3 = [], [], []\n",
    "\n",
    "for i in range(len(dataset1)):\n",
    "    new_dataset1.extend(dataset1.iloc[i,3:])\n",
    "\n",
    "for i in range(len(dataset2)):\n",
    "    new_dataset2.extend(dataset2.iloc[i,3:])\n",
    "\n",
    "for i in range(len(dataset3)):\n",
    "    new_dataset3.extend(dataset3.iloc[i,3:])\n",
    "    \n",
    "len(new_dataset1), len(new_dataset2), len(new_dataset3)"
   ]
  },
  {
   "cell_type": "code",
   "execution_count": 6,
   "id": "df036ccd",
   "metadata": {},
   "outputs": [
    {
     "data": {
      "text/plain": [
       "[<matplotlib.lines.Line2D at 0x248d59eff10>]"
      ]
     },
     "execution_count": 6,
     "metadata": {},
     "output_type": "execute_result"
    },
    {
     "data": {
      "image/png": "[encoded data removed]",
      "text/plain": [
       "<Figure size 432x288 with 1 Axes>"
      ]
     },
     "metadata": {
      "needs_background": "light"
     },
     "output_type": "display_data"
    }
   ],
   "source": [
    "plt.plot(new_dataset1)"
   ]
  },
  {
   "cell_type": "code",
   "execution_count": null,
   "id": "07bdd1b9",
   "metadata": {},
   "outputs": [],
   "source": []
  },
  {
   "cell_type": "code",
   "execution_count": null,
   "id": "79d9b521",
   "metadata": {},
   "outputs": [],
   "source": []
  },
  {
   "cell_type": "code",
   "execution_count": null,
   "id": "4ab2b56b",
   "metadata": {},
   "outputs": [],
   "source": []
  },
  {
   "cell_type": "code",
   "execution_count": 9,
   "id": "27607c37",
   "metadata": {},
   "outputs": [],
   "source": [
    "import numpy as np\n",
    "import pandas as pd\n",
    "import tensorflow as tf\n",
    "import matplotlib.pyplot as plt\n",
    "import time\n",
    "import math\n",
    "import random\n",
    "import warnings\n",
    "warnings.filterwarnings('ignore')\n",
    "\n",
    "import keras\n",
    "from tensorflow import keras\n",
    "from keras.layers import Dense, Dropout, Flatten, Activation, LSTM\n",
    "from keras.engine import input_layer\n",
    "from keras.models import Sequential\n",
    "\n",
    "from sklearn.preprocessing import MinMaxScaler\n",
    "from sklearn.metrics import mean_squared_error"
   ]
  },
  {
   "cell_type": "code",
   "execution_count": 10,
   "id": "dff52ef1",
   "metadata": {},
   "outputs": [],
   "source": [
    "def create_dataset(dataset, look_back=1):\n",
    "    dataX, dataY = [], []\n",
    "    for i in range(len(dataset) - look_back- 1):\n",
    "        a = dataset[i:(i+look_back), 0]\n",
    "        dataX.append(a)\n",
    "        dataY.append(dataset[i + look_back, 0])\n",
    "    \n",
    "    return np.array(dataX), np.array(dataY)\n",
    "\n",
    "def local_model_generate(model): #초기 모델 생성\n",
    "    model.add(LSTM(1, input_shape=(1, look_back)))\n",
    "    model.add(Dense(10))\n",
    "    model.add(Dense(1))\n",
    "    model.compile(loss='mean_squared_error', optimizer='adam')\n",
    "    \n",
    "    return model\n"
   ]
  },
  {
   "cell_type": "code",
   "execution_count": 14,
   "id": "cb66830e",
   "metadata": {},
   "outputs": [
    {
     "name": "stdout",
     "output_type": "stream",
     "text": [
      "40728\n",
      "40728\n",
      "40728\n",
      "34618 6110\n",
      "34618 6110\n",
      "34618 6110\n"
     ]
    }
   ],
   "source": [
    "num_locals = 4\n",
    "\n",
    "local1 = np.array(new_dataset1).reshape(-1, 1)\n",
    "local2 = np.array(new_dataset2).reshape(-1, 1)\n",
    "local3 = np.array(new_dataset3).reshape(-1, 1)\n",
    "\n",
    "scaler = MinMaxScaler(feature_range=(0,1))\n",
    "\n",
    "for i in range(1,num_locals):\n",
    "    globals()['local{}'.format(i)] = scaler.fit_transform(globals()['local{}'.format(i)])\n",
    "    print(len(globals()['local{}'.format(i)]))\n",
    "    \n",
    "train_size = int(len(local1)*0.85)\n",
    "test_size = len(local1) - train_size\n",
    "\n",
    "for i in range(1,num_locals):\n",
    "    globals()['train_{}'.format(i)], globals()['test_{}'.format(i)] = globals()['local{}'.format(i)][0:train_size, :], globals()['local{}'.format(i)][train_size:len(local1),:]\n",
    "    print(len(globals()['train_{}'.format(i)]), len(globals()['test_{}'.format(i)]))"
   ]
  },
  {
   "cell_type": "code",
   "execution_count": 15,
   "id": "e46c1e8a",
   "metadata": {
    "scrolled": true
   },
   "outputs": [
    {
     "name": "stdout",
     "output_type": "stream",
     "text": [
      "34616 34616 6108 6108\n",
      "Epoch 1/30\n",
      "3462/3462 [==============================] - 6s 1ms/step - loss: 0.0153 - val_loss: 0.0095\n",
      "Epoch 2/30\n",
      "3462/3462 [==============================] - 4s 1ms/step - loss: 0.0108 - val_loss: 0.0096\n",
      "Epoch 3/30\n",
      "3462/3462 [==============================] - 4s 1ms/step - loss: 0.0108 - val_loss: 0.0095\n",
      "Epoch 4/30\n",
      "3462/3462 [==============================] - 4s 1ms/step - loss: 0.0107 - val_loss: 0.0095\n",
      "Epoch 5/30\n",
      "3462/3462 [==============================] - 4s 1ms/step - loss: 0.0107 - val_loss: 0.0095\n",
      "Epoch 6/30\n",
      "3462/3462 [==============================] - 4s 1ms/step - loss: 0.0107 - val_loss: 0.0096\n",
      "Epoch 7/30\n",
      "3462/3462 [==============================] - 4s 1ms/step - loss: 0.0107 - val_loss: 0.0098\n",
      "Epoch 8/30\n",
      "3462/3462 [==============================] - 4s 1ms/step - loss: 0.0107 - val_loss: 0.0095\n",
      "Epoch 9/30\n",
      "3462/3462 [==============================] - 4s 1ms/step - loss: 0.0107 - val_loss: 0.0095\n",
      "Epoch 10/30\n",
      "3462/3462 [==============================] - 4s 1ms/step - loss: 0.0107 - val_loss: 0.0097\n",
      "Epoch 11/30\n",
      "3462/3462 [==============================] - 4s 1ms/step - loss: 0.0107 - val_loss: 0.0095\n",
      "Epoch 12/30\n",
      "3462/3462 [==============================] - 4s 1ms/step - loss: 0.0107 - val_loss: 0.0096\n",
      "Epoch 13/30\n",
      "3462/3462 [==============================] - 4s 1ms/step - loss: 0.0107 - val_loss: 0.0095\n",
      "Epoch 14/30\n",
      "3462/3462 [==============================] - 4s 1ms/step - loss: 0.0107 - val_loss: 0.0095\n",
      "Epoch 15/30\n",
      "3462/3462 [==============================] - 4s 1ms/step - loss: 0.0107 - val_loss: 0.0096\n",
      "Epoch 16/30\n",
      "3462/3462 [==============================] - 4s 1ms/step - loss: 0.0107 - val_loss: 0.0097\n",
      "Epoch 17/30\n",
      "3462/3462 [==============================] - 4s 1ms/step - loss: 0.0107 - val_loss: 0.0096\n",
      "Epoch 18/30\n",
      "3462/3462 [==============================] - 4s 1ms/step - loss: 0.0107 - val_loss: 0.0095\n",
      "Epoch 19/30\n",
      "3462/3462 [==============================] - 4s 1ms/step - loss: 0.0107 - val_loss: 0.0095\n",
      "Epoch 20/30\n",
      "3462/3462 [==============================] - 4s 1ms/step - loss: 0.0107 - val_loss: 0.0095\n",
      "Epoch 21/30\n",
      "3462/3462 [==============================] - 4s 1ms/step - loss: 0.0107 - val_loss: 0.0095\n",
      "Epoch 22/30\n",
      "3462/3462 [==============================] - 4s 1ms/step - loss: 0.0107 - val_loss: 0.0095\n",
      "Epoch 23/30\n",
      "3462/3462 [==============================] - 4s 1ms/step - loss: 0.0107 - val_loss: 0.0095\n",
      "Epoch 24/30\n",
      "3462/3462 [==============================] - 4s 1ms/step - loss: 0.0107 - val_loss: 0.0096\n",
      "Epoch 25/30\n",
      "3462/3462 [==============================] - 4s 1ms/step - loss: 0.0107 - val_loss: 0.0096\n",
      "Epoch 26/30\n",
      "3462/3462 [==============================] - 4s 1ms/step - loss: 0.0107 - val_loss: 0.0096\n",
      "Epoch 27/30\n",
      "3462/3462 [==============================] - 4s 1ms/step - loss: 0.0107 - val_loss: 0.0095\n",
      "Epoch 28/30\n",
      "3462/3462 [==============================] - 4s 1ms/step - loss: 0.0107 - val_loss: 0.0095\n",
      "Epoch 29/30\n",
      "3462/3462 [==============================] - 4s 1ms/step - loss: 0.0107 - val_loss: 0.0101\n",
      "Epoch 30/30\n",
      "3462/3462 [==============================] - 4s 1ms/step - loss: 0.0107 - val_loss: 0.0095\n",
      "34616 34616 6108 6108\n",
      "Epoch 1/30\n",
      "3462/3462 [==============================] - 6s 1ms/step - loss: 0.0142 - val_loss: 0.0095\n",
      "Epoch 2/30\n",
      "3462/3462 [==============================] - 4s 1ms/step - loss: 0.0107 - val_loss: 0.0095\n",
      "Epoch 3/30\n",
      "3462/3462 [==============================] - 4s 1ms/step - loss: 0.0107 - val_loss: 0.0094\n",
      "Epoch 4/30\n",
      "3462/3462 [==============================] - 4s 1ms/step - loss: 0.0107 - val_loss: 0.0094\n",
      "Epoch 5/30\n",
      "3462/3462 [==============================] - 4s 1ms/step - loss: 0.0107 - val_loss: 0.0093\n",
      "Epoch 6/30\n",
      "3462/3462 [==============================] - 4s 1ms/step - loss: 0.0106 - val_loss: 0.0094\n",
      "Epoch 7/30\n",
      "3462/3462 [==============================] - 4s 1ms/step - loss: 0.0107 - val_loss: 0.0098\n",
      "Epoch 8/30\n",
      "3462/3462 [==============================] - 4s 1ms/step - loss: 0.0107 - val_loss: 0.0094\n",
      "Epoch 9/30\n",
      "3462/3462 [==============================] - 4s 1ms/step - loss: 0.0107 - val_loss: 0.0094\n",
      "Epoch 10/30\n",
      "3462/3462 [==============================] - 4s 1ms/step - loss: 0.0106 - val_loss: 0.0093\n",
      "Epoch 11/30\n",
      "3462/3462 [==============================] - 4s 1ms/step - loss: 0.0107 - val_loss: 0.0094\n",
      "Epoch 12/30\n",
      "3462/3462 [==============================] - 4s 1ms/step - loss: 0.0107 - val_loss: 0.0094\n",
      "Epoch 13/30\n",
      "3462/3462 [==============================] - 4s 1ms/step - loss: 0.0106 - val_loss: 0.0093\n",
      "Epoch 14/30\n",
      "3462/3462 [==============================] - 4s 1ms/step - loss: 0.0106 - val_loss: 0.0094\n",
      "Epoch 15/30\n",
      "3462/3462 [==============================] - 4s 1ms/step - loss: 0.0106 - val_loss: 0.0094\n",
      "Epoch 16/30\n",
      "3462/3462 [==============================] - 4s 1ms/step - loss: 0.0106 - val_loss: 0.0095\n",
      "Epoch 17/30\n",
      "3462/3462 [==============================] - 4s 1ms/step - loss: 0.0106 - val_loss: 0.0094\n",
      "Epoch 18/30\n",
      "3462/3462 [==============================] - 4s 1ms/step - loss: 0.0106 - val_loss: 0.0094\n",
      "Epoch 19/30\n",
      "3462/3462 [==============================] - 4s 1ms/step - loss: 0.0106 - val_loss: 0.0096\n",
      "Epoch 20/30\n",
      "3462/3462 [==============================] - 4s 1ms/step - loss: 0.0106 - val_loss: 0.0106\n",
      "Epoch 21/30\n",
      "3462/3462 [==============================] - 4s 1ms/step - loss: 0.0106 - val_loss: 0.0095\n",
      "Epoch 22/30\n",
      "3462/3462 [==============================] - 4s 1ms/step - loss: 0.0106 - val_loss: 0.0096\n",
      "Epoch 23/30\n",
      "3462/3462 [==============================] - 4s 1ms/step - loss: 0.0106 - val_loss: 0.0099\n",
      "Epoch 24/30\n",
      "3462/3462 [==============================] - 4s 1ms/step - loss: 0.0106 - val_loss: 0.0095\n",
      "Epoch 25/30\n",
      "3462/3462 [==============================] - 4s 1ms/step - loss: 0.0106 - val_loss: 0.0093\n",
      "Epoch 26/30\n",
      "3462/3462 [==============================] - 4s 1ms/step - loss: 0.0106 - val_loss: 0.0094\n",
      "Epoch 27/30\n",
      "3462/3462 [==============================] - 4s 1ms/step - loss: 0.0106 - val_loss: 0.0094\n",
      "Epoch 28/30\n",
      "3462/3462 [==============================] - 4s 1ms/step - loss: 0.0106 - val_loss: 0.0095\n",
      "Epoch 29/30\n",
      "3462/3462 [==============================] - 4s 1ms/step - loss: 0.0106 - val_loss: 0.0094\n",
      "Epoch 30/30\n",
      "3462/3462 [==============================] - 4s 1ms/step - loss: 0.0106 - val_loss: 0.0095\n",
      "34616 34616 6108 6108\n",
      "Epoch 1/30\n",
      "3462/3462 [==============================] - 6s 1ms/step - loss: 0.0137 - val_loss: 0.0098\n",
      "Epoch 2/30\n",
      "3462/3462 [==============================] - 4s 1ms/step - loss: 0.0096 - val_loss: 0.0094\n",
      "Epoch 3/30\n",
      "3462/3462 [==============================] - 4s 1ms/step - loss: 0.0096 - val_loss: 0.0094\n",
      "Epoch 4/30\n",
      "3462/3462 [==============================] - 4s 1ms/step - loss: 0.0096 - val_loss: 0.0094\n",
      "Epoch 5/30\n",
      "3462/3462 [==============================] - 4s 1ms/step - loss: 0.0096 - val_loss: 0.0093\n",
      "Epoch 6/30\n",
      "3462/3462 [==============================] - 4s 1ms/step - loss: 0.0096 - val_loss: 0.0094\n",
      "Epoch 7/30\n",
      "3462/3462 [==============================] - 4s 1ms/step - loss: 0.0096 - val_loss: 0.0094\n",
      "Epoch 8/30\n",
      "3462/3462 [==============================] - 4s 1ms/step - loss: 0.0096 - val_loss: 0.0094\n",
      "Epoch 9/30\n",
      "3462/3462 [==============================] - 4s 1ms/step - loss: 0.0096 - val_loss: 0.0093\n",
      "Epoch 10/30\n",
      "3462/3462 [==============================] - 4s 1ms/step - loss: 0.0096 - val_loss: 0.0093\n",
      "Epoch 11/30\n",
      "3462/3462 [==============================] - 4s 1ms/step - loss: 0.0095 - val_loss: 0.0093\n",
      "Epoch 12/30\n",
      "3462/3462 [==============================] - 4s 1ms/step - loss: 0.0096 - val_loss: 0.0094\n",
      "Epoch 13/30\n",
      "3462/3462 [==============================] - 4s 1ms/step - loss: 0.0096 - val_loss: 0.0093\n",
      "Epoch 14/30\n",
      "3462/3462 [==============================] - 4s 1ms/step - loss: 0.0095 - val_loss: 0.0094\n",
      "Epoch 15/30\n",
      "3462/3462 [==============================] - 4s 1ms/step - loss: 0.0096 - val_loss: 0.0094\n",
      "Epoch 16/30\n",
      "3462/3462 [==============================] - 4s 1ms/step - loss: 0.0095 - val_loss: 0.0095\n",
      "Epoch 17/30\n",
      "3462/3462 [==============================] - 4s 1ms/step - loss: 0.0096 - val_loss: 0.0094\n",
      "Epoch 18/30\n",
      "3462/3462 [==============================] - 4s 1ms/step - loss: 0.0095 - val_loss: 0.0094\n",
      "Epoch 19/30\n",
      "3462/3462 [==============================] - 4s 1ms/step - loss: 0.0095 - val_loss: 0.0093\n",
      "Epoch 20/30\n"
     ]
    },
    {
     "name": "stdout",
     "output_type": "stream",
     "text": [
      "3462/3462 [==============================] - 4s 1ms/step - loss: 0.0095 - val_loss: 0.0093\n",
      "Epoch 21/30\n",
      "3462/3462 [==============================] - 4s 1ms/step - loss: 0.0096 - val_loss: 0.0098\n",
      "Epoch 22/30\n",
      "3462/3462 [==============================] - 4s 1ms/step - loss: 0.0095 - val_loss: 0.0094\n",
      "Epoch 23/30\n",
      "3462/3462 [==============================] - 4s 1ms/step - loss: 0.0095 - val_loss: 0.0093\n",
      "Epoch 24/30\n",
      "3462/3462 [==============================] - 4s 1ms/step - loss: 0.0095 - val_loss: 0.0093\n",
      "Epoch 25/30\n",
      "3462/3462 [==============================] - 4s 1ms/step - loss: 0.0095 - val_loss: 0.0095\n",
      "Epoch 26/30\n",
      "3462/3462 [==============================] - 4s 1ms/step - loss: 0.0095 - val_loss: 0.0094\n",
      "Epoch 27/30\n",
      "3462/3462 [==============================] - 4s 1ms/step - loss: 0.0095 - val_loss: 0.0093\n",
      "Epoch 28/30\n",
      "3462/3462 [==============================] - 4s 1ms/step - loss: 0.0095 - val_loss: 0.0096\n",
      "Epoch 29/30\n",
      "3462/3462 [==============================] - 4s 1ms/step - loss: 0.0095 - val_loss: 0.0096\n",
      "Epoch 30/30\n",
      "3462/3462 [==============================] - 4s 1ms/step - loss: 0.0095 - val_loss: 0.0093\n"
     ]
    }
   ],
   "source": [
    "look_back = 1\n",
    "local_epoch = 30\n",
    "local_batch = 10\n",
    "\n",
    "for i in range(1, num_locals):\n",
    "    trainX, trainY = create_dataset(globals()['train_{}'.format(i)], look_back)\n",
    "    testX, testY = create_dataset(globals()['test_{}'.format(i)], look_back)\n",
    "    print(len(trainX), len(trainY), len(testX),  len(testY))\n",
    "    \n",
    "    trainX = np.reshape(trainX, (trainX.shape[0], 1, trainX.shape[1]))\n",
    "    testX = np.reshape(testX, (testX.shape[0], 1, testX.shape[1]))\n",
    "    \n",
    "    globals()['model{}'.format(i)] = Sequential()\n",
    "    local_model_generate(globals()['model{}'.format(i)])\n",
    "    globals()['history{}'.format(i)] = globals()['model{}'.format(i)].fit(trainX, trainY, validation_data=(testX, testY),\n",
    "                                       epochs=local_epoch, batch_size=local_batch, verbose=1)"
   ]
  },
  {
   "cell_type": "code",
   "execution_count": null,
   "id": "f044fa91",
   "metadata": {},
   "outputs": [],
   "source": []
  },
  {
   "cell_type": "markdown",
   "id": "82aa2a4b",
   "metadata": {},
   "source": [
    "# 여기 중요!! => 각자 데이터로 학습시킨 것"
   ]
  },
  {
   "cell_type": "code",
   "execution_count": 16,
   "id": "c6a62761",
   "metadata": {},
   "outputs": [
    {
     "data": {
      "image/png": "[encoded data removed]",
      "text/plain": [
       "<Figure size 432x288 with 1 Axes>"
      ]
     },
     "metadata": {
      "needs_background": "light"
     },
     "output_type": "display_data"
    }
   ],
   "source": [
    "plt.title('Loss / Mean Squared Error')\n",
    "plt.plot(history1.history['loss'], label='train', marker='o')\n",
    "plt.plot(history1.history['val_loss'], label='test', marker='o')\n",
    "plt.xlabel('epoch')\n",
    "#plt.ylim(0.0092,0.013)\n",
    "plt.legend()\n",
    "plt.show()"
   ]
  },
  {
   "cell_type": "code",
   "execution_count": 17,
   "id": "13272dc6",
   "metadata": {},
   "outputs": [
    {
     "data": {
      "image/png": "[encoded data removed]",
      "text/plain": [
       "<Figure size 432x288 with 1 Axes>"
      ]
     },
     "metadata": {
      "needs_background": "light"
     },
     "output_type": "display_data"
    }
   ],
   "source": [
    "plt.title('Loss / Mean Squared Error')\n",
    "plt.plot(history2.history['loss'], label='train', marker='o')\n",
    "plt.plot(history2.history['val_loss'], label='test', marker='o')\n",
    "plt.xlabel('epoch')\n",
    "#plt.ylim(0.0092,0.013)\n",
    "plt.legend()\n",
    "plt.show()"
   ]
  },
  {
   "cell_type": "code",
   "execution_count": 18,
   "id": "2239cba3",
   "metadata": {},
   "outputs": [
    {
     "data": {
      "image/png": "[encoded data removed]",
      "text/plain": [
       "<Figure size 432x288 with 1 Axes>"
      ]
     },
     "metadata": {
      "needs_background": "light"
     },
     "output_type": "display_data"
    }
   ],
   "source": [
    "plt.title('Loss / Mean Squared Error')\n",
    "plt.plot(history3.history['loss'], label='train', marker='o')\n",
    "plt.plot(history3.history['val_loss'], label='test', marker='o')\n",
    "plt.xlabel('epoch')\n",
    "#plt.ylim(0.0092,0.013)\n",
    "plt.legend()\n",
    "plt.show()"
   ]
  },
  {
   "cell_type": "code",
   "execution_count": null,
   "id": "fd4a2d5b",
   "metadata": {},
   "outputs": [],
   "source": []
  },
  {
   "cell_type": "code",
   "execution_count": 10,
   "id": "b5bebaa6",
   "metadata": {},
   "outputs": [
    {
     "name": "stdout",
     "output_type": "stream",
     "text": [
      "1020/1020 [==============================] - 5s 719us/step\n",
      "255/255 [==============================] - 0s 669us/step\n"
     ]
    }
   ],
   "source": [
    "for i in range(1, num_locals):\n",
    "    trainPredict = globals()['model{}'.format(i)].predict(trainX)\n",
    "    testPredict = globals()['model{}'.format(i)].predict(testX)\n",
    "\n",
    "    trainPredict = scaler.inverse_transform(trainPredict)\n",
    "    trainY = scaler.inverse_transform([trainY])\n",
    "    testPredict = scaler.inverse_transform(testPredict)\n",
    "    testY = scaler.inverse_transform([testY])\n",
    "    \n",
    "    globals()['trainScore_{}'.format(i)] = math.sqrt(mean_squared_error(trainY[0], trainPredict[:,0]))#RMSE\n",
    "    globals()['testScore_{}'.format(i)] = math.sqrt(mean_squared_error(testY[0], testPredict[:,0]))"
   ]
  },
  {
   "cell_type": "code",
   "execution_count": 11,
   "id": "09fdc7f7",
   "metadata": {},
   "outputs": [
    {
     "name": "stdout",
     "output_type": "stream",
     "text": [
      "Train: 212309966848.000, Test: 193668022272.000\n"
     ]
    },
    {
     "data": {
      "image/png": "[encoded data removed]",
      "text/plain": [
       "<Figure size 432x288 with 1 Axes>"
      ]
     },
     "metadata": {
      "needs_background": "light"
     },
     "output_type": "display_data"
    }
   ],
   "source": [
    "train_mse = model1.evaluate(trainX, trainY[0], verbose=0)\n",
    "test_mse = model1.evaluate(testX, testY[0], verbose=0)\n",
    "print('Train: %.3f, Test: %.3f' % (train_mse, test_mse))\n",
    "\n",
    "# plot loss during training\n",
    "plt.title('Loss / Mean Squared Error')\n",
    "plt.plot(history.history['loss'], label='train', marker='o')\n",
    "plt.plot(history.history['val_loss'], label='test', marker='o')\n",
    "plt.xlabel('epoch')\n",
    "#plt.ylim(0.0092,0.013)\n",
    "plt.legend()\n",
    "plt.show()"
   ]
  },
  {
   "cell_type": "code",
   "execution_count": 12,
   "id": "08aaf854",
   "metadata": {},
   "outputs": [
    {
     "data": {
      "image/png": "[encoded data removed]",
      "text/plain": [
       "<Figure size 1080x576 with 1 Axes>"
      ]
     },
     "metadata": {
      "needs_background": "light"
     },
     "output_type": "display_data"
    }
   ],
   "source": [
    "#plot-------------------------------------------------\n",
    "trainPredict_plot = np.empty_like(local1)\n",
    "trainPredict_plot[:,:] = np.nan\n",
    "trainPredict_plot[look_back:len(trainPredict)+look_back, :] = trainPredict\n",
    "\n",
    "testPredict_plot = np.empty_like(local1)\n",
    "testPredict_plot[:,:] = np.nan\n",
    "testPredict_plot[len(trainPredict)+(look_back*2)+1:len(local1)-1, :] = testPredict\n",
    "\n",
    "plt.figure(figsize=(15,8))\n",
    "plt.plot(scaler.inverse_transform(local1), label='Local1')\n",
    "plt.plot(trainPredict_plot, label='Train predict')\n",
    "plt.plot(testPredict_plot, label='Test predict')\n",
    "plt.legend()\n",
    "plt.show()"
   ]
  },
  {
   "cell_type": "code",
   "execution_count": 13,
   "id": "a4795e2c",
   "metadata": {},
   "outputs": [
    {
     "data": {
      "text/plain": [
       "(150422.85743097073, 144627.74902254692, 4.611651769911421, 17.737030785203203)"
      ]
     },
     "execution_count": 13,
     "metadata": {},
     "output_type": "execute_result"
    }
   ],
   "source": [
    "trainScore_1, testScore_1, trainScore_1/len(trainY[0]), testScore_1/len(testY[0])"
   ]
  },
  {
   "cell_type": "code",
   "execution_count": 14,
   "id": "7e0d4dca",
   "metadata": {},
   "outputs": [
    {
     "data": {
      "text/plain": [
       "(153501.65531338903, 148159.70787192753, 5.619272076486768, 11.011498169596992)"
      ]
     },
     "execution_count": 14,
     "metadata": {},
     "output_type": "execute_result"
    }
   ],
   "source": [
    "(153501.65531338903, 148159.70787192753, 5.619272076486768, 11.011498169596992)\n"
   ]
  }
 ],
 "metadata": {
  "kernelspec": {
   "display_name": "Python 3 (ipykernel)",
   "language": "python",
   "name": "python3"
  },
  "language_info": {
   "codemirror_mode": {
    "name": "ipython",
    "version": 3
   },
   "file_extension": ".py",
   "mimetype": "text/x-python",
   "name": "python",
   "nbconvert_exporter": "python",
   "pygments_lexer": "ipython3",
   "version": "3.9.12"
  }
 },
 "nbformat": 4,
 "nbformat_minor": 5
}
